{
 "cells": [
  {
   "cell_type": "code",
   "execution_count": 1,
   "metadata": {},
   "outputs": [],
   "source": [
    "import numpy as np\n",
    "import math\n",
    "import pandas as pd\n",
    "import matplotlib.pyplot as plt"
   ]
  },
  {
   "cell_type": "code",
   "execution_count": 2,
   "metadata": {},
   "outputs": [],
   "source": [
    "XorInput = np.array([[0,0],[0,1],[1,0],[1,1]])\n",
    "XorOutput = np.array([[0],[1],[1],[0]])"
   ]
  },
  {
   "cell_type": "code",
   "execution_count": 3,
   "metadata": {},
   "outputs": [],
   "source": [
    "def sigmoid(x):\n",
    "    return 1/(1+np.exp(-x))\n",
    "def diff_sigmoid(x):\n",
    "    return x*(1-x)\n",
    "def predict(X):\n",
    "    hidden_layer = np.dot(X, hidden_weight)\n",
    "    hidden_layer += hidden_bias\n",
    "    hidden_layer_output = sigmoid(hidden_layer)\n",
    "\n",
    "    output_layer = np.dot(hidden_layer_output, output_weight)\n",
    "    output_layer += output_bias\n",
    "    predicted = sigmoid(output_layer)\n",
    "    return predicted"
   ]
  },
  {
   "cell_type": "code",
   "execution_count": 4,
   "metadata": {},
   "outputs": [],
   "source": [
    "epoch = 10000\n",
    "lr = 0.1\n",
    "hidden_weight = np.random.uniform(size=(2,2))\n",
    "hidden_bias = np.random.uniform(size=(1,2))\n",
    "output_weight = np.random.uniform(size=(2,1))\n",
    "output_bias = np.random.uniform(size=(1,1))"
   ]
  },
  {
   "cell_type": "code",
   "execution_count": 5,
   "metadata": {},
   "outputs": [
    {
     "name": "stdout",
     "output_type": "stream",
     "text": [
      "[[0.00861536 0.42623133]\n",
      " [0.79973475 0.56179963]]\n",
      "[[0.09373556 0.18307623]]\n",
      "[[0.00231809]\n",
      " [0.72886789]]\n",
      "[[0.35506523]]\n"
     ]
    }
   ],
   "source": [
    "print(hidden_weight)\n",
    "print(hidden_bias)\n",
    "print(output_weight)\n",
    "print(output_bias)"
   ]
  },
  {
   "cell_type": "code",
   "execution_count": 6,
   "metadata": {},
   "outputs": [],
   "source": [
    "history  = []\n",
    "for i in range(epoch):\n",
    "    #forward propagation\n",
    "    hidden_layer = np.dot(XorInput, hidden_weight)\n",
    "    hidden_layer += hidden_bias\n",
    "    hidden_layer_output = sigmoid(hidden_layer)\n",
    "\n",
    "    output_layer = np.dot(hidden_layer_output, output_weight)\n",
    "    output_layer += output_bias\n",
    "    predicted = sigmoid(output_layer)\n",
    "    #back propagation\n",
    "    error = (-XorOutput + predicted)/(predicted*(1-predicted))\n",
    "    diff_output_error = error*diff_sigmoid(predicted)\n",
    "\n",
    "    hidden_error = np.dot(diff_output_error,output_weight.T)\n",
    "    diff_hidden_error = hidden_error*diff_sigmoid(hidden_layer_output)\n",
    "\n",
    "    #update weight\n",
    "    output_weight = output_weight - np.dot(hidden_layer_output.T,diff_output_error)*lr\n",
    "    output_bias = output_bias - np.sum(diff_output_error, axis=0, keepdims=True)*lr\n",
    "\n",
    "    hidden_weight = hidden_weight - np.dot(XorInput.T,diff_hidden_error, )*lr\n",
    "    hidden_bias = hidden_bias - np.sum(diff_hidden_error, axis=0, keepdims=True)*lr \n",
    "    \n",
    "    new_dict = {}\n",
    "    new_dict['epoch'] = i\n",
    "    new_dict['error'] = np.mean(np.square(-XorOutput+ predict(XorInput)))\n",
    "    history.append(new_dict)\n",
    "    "
   ]
  },
  {
   "cell_type": "code",
   "execution_count": 7,
   "metadata": {},
   "outputs": [
    {
     "data": {
      "text/plain": [
       "[<matplotlib.lines.Line2D at 0x1863f710548>]"
      ]
     },
     "execution_count": 7,
     "metadata": {},
     "output_type": "execute_result"
    },
    {
     "data": {
      "image/png": "[encoded data removed]",
      "text/plain": [
       "<Figure size 432x288 with 1 Axes>"
      ]
     },
     "metadata": {
      "needs_background": "light"
     },
     "output_type": "display_data"
    }
   ],
   "source": [
    "df = pd.DataFrame(history)\n",
    "plt.plot(df['epoch'], df['error'])"
   ]
  },
  {
   "cell_type": "code",
   "execution_count": 8,
   "metadata": {},
   "outputs": [
    {
     "data": {
      "text/plain": [
       "array([[0.00137332],\n",
       "       [0.49953137],\n",
       "       [0.99799746],\n",
       "       [0.50097342]])"
      ]
     },
     "execution_count": 8,
     "metadata": {},
     "output_type": "execute_result"
    }
   ],
   "source": [
    "predict(XorInput)"
   ]
  }
 ],
 "metadata": {
  "kernelspec": {
   "display_name": "Python 3",
   "language": "python",
   "name": "python3"
  },
  "language_info": {
   "codemirror_mode": {
    "name": "ipython",
    "version": 3
   },
   "file_extension": ".py",
   "mimetype": "text/x-python",
   "name": "python",
   "nbconvert_exporter": "python",
   "pygments_lexer": "ipython3",
   "version": "3.7.6"
  }
 },
 "nbformat": 4,
 "nbformat_minor": 2
}
