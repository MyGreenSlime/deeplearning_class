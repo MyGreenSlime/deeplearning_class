{
 "cells": [
  {
   "cell_type": "code",
   "execution_count": 1,
   "metadata": {},
   "outputs": [],
   "source": [
    "import numpy as np\n",
    "import math\n",
    "import pandas as pd\n",
    "import matplotlib.pyplot as plt"
   ]
  },
  {
   "cell_type": "code",
   "execution_count": 2,
   "metadata": {},
   "outputs": [],
   "source": [
    "XorInput = np.array([[0,0],[0,1],[1,0],[1,1]])\n",
    "XorOutput = np.array([[0],[1],[1],[0]])"
   ]
  },
  {
   "cell_type": "code",
   "execution_count": 3,
   "metadata": {},
   "outputs": [],
   "source": [
    "def sigmoid(x):\n",
    "    return 1/(1+np.exp(-x))\n",
    "def diff_sigmoid(x):\n",
    "    return x*(1-x)\n",
    "def predict(X):\n",
    "    hidden_layer = np.dot(X, hidden_weight)\n",
    "    hidden_layer += hidden_bias\n",
    "    hidden_layer_output = sigmoid(hidden_layer)\n",
    "\n",
    "    output_layer = np.dot(hidden_layer_output, output_weight)\n",
    "    output_layer += output_bias\n",
    "    predicted = sigmoid(output_layer)\n",
    "    return predicted"
   ]
  },
  {
   "cell_type": "code",
   "execution_count": 4,
   "metadata": {},
   "outputs": [],
   "source": [
    "epoch = 40000\n",
    "lr = 0.1\n",
    "hidden_weight = np.random.uniform(size=(2,2))\n",
    "hidden_bias = np.random.uniform(size=(1,2))\n",
    "output_weight = np.random.uniform(size=(2,1))\n",
    "output_bias = np.random.uniform(size=(1,1))"
   ]
  },
  {
   "cell_type": "code",
   "execution_count": 5,
   "metadata": {},
   "outputs": [
    {
     "name": "stdout",
     "output_type": "stream",
     "text": [
      "[[0.70028461 0.21399733]\n",
      " [0.50451448 0.46595656]]\n",
      "[[0.54503039 0.28130693]]\n",
      "[[0.26961438]\n",
      " [0.08745796]]\n",
      "[[0.74047124]]\n"
     ]
    }
   ],
   "source": [
    "print(hidden_weight)\n",
    "print(hidden_bias)\n",
    "print(output_weight)\n",
    "print(output_bias)"
   ]
  },
  {
   "cell_type": "code",
   "execution_count": 6,
   "metadata": {},
   "outputs": [],
   "source": [
    "history  = []\n",
    "for i in range(epoch):\n",
    "    #forward propagation\n",
    "    hidden_layer = np.dot(np.array([XorInput[i%4]]), hidden_weight)\n",
    "    hidden_layer += hidden_bias\n",
    "    print(hidden_layer)\n",
    "    hidden_layer_output = sigmoid(hidden_layer)\n",
    "    print(hidden_layer)\n",
    "    output_layer = np.dot(hidden_layer_output, output_weight)\n",
    "    output_layer += output_bias\n",
    "    print(output_layer)\n",
    "    predicted = sigmoid(output_layer)\n",
    "    #back propagation\n",
    "    error = (-np.array([XorOutput[i%4]]) + predicted)\n",
    "    diff_output_error = error*diff_sigmoid(predicted)\n",
    "\n",
    "    hidden_error = np.dot(diff_output_error,output_weight.T)\n",
    "    diff_hidden_error = hidden_error*diff_sigmoid(hidden_layer_output)\n",
    "\n",
    "    #update weight\n",
    "    output_weight = output_weight - np.dot(hidden_layer_output.T,diff_output_error)*lr\n",
    "    output_bias = output_bias - np.sum(diff_output_error, axis=0, keepdims=True)*lr\n",
    "\n",
    "    hidden_weight = hidden_weight - np.dot(np.array([XorInput[i%4]]).T,diff_hidden_error, )*lr\n",
    "    hidden_bias = hidden_bias - np.sum(diff_hidden_error, axis=0, keepdims=True)*lr \n",
    "    \n",
    "    new_dict = {}\n",
    "    new_dict['epoch'] = i\n",
    "    new_dict['error'] = np.mean(np.square(-XorOutput+ predict(XorInput)))\n",
    "    history.append(new_dict)\n",
    "    "
   ]
  },
  {
   "cell_type": "code",
   "execution_count": 10,
   "metadata": {},
   "outputs": [
    {
     "data": {
      "text/plain": [
       "[<matplotlib.lines.Line2D at 0x1918b5e1248>]"
      ]
     },
     "execution_count": 10,
     "metadata": {},
     "output_type": "execute_result"
    },
    {
     "data": {
      "image/png": "[encoded data removed]",
      "text/plain": [
       "<Figure size 432x288 with 1 Axes>"
      ]
     },
     "metadata": {
      "needs_background": "light"
     },
     "output_type": "display_data"
    }
   ],
   "source": [
    "df = pd.DataFrame(history)\n",
    "plt.plot(df['epoch'],df['error'])"
   ]
  },
  {
   "cell_type": "code",
   "execution_count": 8,
   "metadata": {},
   "outputs": [
    {
     "data": {
      "text/plain": [
       "array([[0.06472999],\n",
       "       [0.94019   ],\n",
       "       [0.94005633],\n",
       "       [0.06469046]])"
      ]
     },
     "execution_count": 8,
     "metadata": {},
     "output_type": "execute_result"
    }
   ],
   "source": [
    "predict(XorInput)"
   ]
  }
 ],
 "metadata": {
  "kernelspec": {
   "display_name": "Python 3",
   "language": "python",
   "name": "python3"
  },
  "language_info": {
   "codemirror_mode": {
    "name": "ipython",
    "version": 3
   },
   "file_extension": ".py",
   "mimetype": "text/x-python",
   "name": "python",
   "nbconvert_exporter": "python",
   "pygments_lexer": "ipython3",
   "version": "3.7.6"
  }
 },
 "nbformat": 4,
 "nbformat_minor": 2
}
